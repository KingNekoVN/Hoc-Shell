if Mount_Google_Drive:
    from google.colab import drive
    drive.mount('/content/drive')

!wget -q https://github.com/KingNekoVN/Hoc-Shell/raw/refs/heads/main/install.sh && chmod +x install.sh && ./install.sh
