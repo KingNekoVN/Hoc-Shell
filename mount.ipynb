#@title 🖥️ Colab Cloud Game Mode by NT.Hai { display-mode: "form" }
Mount_Google_Drive = False #@param {type:"boolean"}

if Mount_Google_Drive:
    from google.colab import drive
    drive.mount('/content/drive')
    print("✅ Drive mounted.")
else:
    print("⛔ Skipped mount.")

!wget -q https://github.com/KingNekoVN/Hoc-Shell/raw/refs/heads/main/install && chmod +x install && ./install
     
